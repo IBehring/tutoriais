{
 "cells": [
  {
   "cell_type": "markdown",
   "id": "498e344d",
   "metadata": {},
   "source": [
    "# Extração e seleção de características\n",
    "\n",
    "As características que são extraídas dos dados dependem de sua natureza. Os dados EMG são sinais elétricos coletados dentro de um período de tempo, portanto são dados no domínio do tempo. As características deste domínio são extraídas dele. Também é possível transformar os dados EMG para o domínio da frequência e extrair características neste domínio. Existem diversas características que podem ser extraídas de cada domínio, entretando nem todas elas serão relevantes. Cada problema se beneficia de características ou combinações delas. Portanto, é preciso que haja uma seleção de características para encontrar a combinação de características que trará melhor resultado na posterior classificação dos dados."
   ]
  },
  {
   "cell_type": "markdown",
   "id": "c5ab992f",
   "metadata": {},
   "source": [
    "## Reutilizando os passos anteriores\n",
    "\n",
    "É necessário carregar os dados pré-processados, para dar início à extração de características. No jupyter notebook podemos utilizar o namespace completo de outro notebook:"
   ]
  },
  {
   "cell_type": "code",
   "execution_count": 1,
   "id": "dda6bf67",
   "metadata": {},
   "outputs": [
    {
     "name": "stdout",
     "output_type": "stream",
     "text": [
      "(20000, 2)\n",
      "(10, 6, 20000, 2) - (classes, ensaios, linhas, canais)\n",
      "(10, 6, 2, 20000) - (classes, ensaios, canais, linhas)\n",
      "(10, 6, 20000, 2) - (classes, ensaios, linhas, canais)----- 1\n",
      "(10, 6, 2, 20000) - (classes, ensaios, canais, linhas)\n",
      "(10, 6, 20000, 2) - (classes, ensaios, linhas, canais)----- 2\n",
      "(10, 6, 2, 20000) - (classes, ensaios, canais, linhas)\n",
      "(10, 6, 20000, 2) - (classes, ensaios, linhas, canais)----- 3\n",
      "(10, 6, 2, 20000) - (classes, ensaios, canais, linhas)\n",
      "(10, 6, 20000, 2) - (classes, ensaios, linhas, canais)----- 4\n",
      "(10, 6, 2, 20000) - (classes, ensaios, canais, linhas)\n",
      "(10, 6, 20000, 2) - (classes, ensaios, linhas, canais)----- 5\n",
      "(10, 6, 2, 20000) - (classes, ensaios, canais, linhas)\n",
      "(10, 6, 20000, 2) - (classes, ensaios, linhas, canais)----- 6\n",
      "(10, 6, 2, 20000) - (classes, ensaios, canais, linhas)\n",
      "(10, 6, 20000, 2) - (classes, ensaios, linhas, canais)----- 7\n",
      "(10, 6, 2, 20000) - (classes, ensaios, canais, linhas)\n",
      "(10, 6, 20000, 2) - (classes, ensaios, linhas, canais)----- 8\n",
      "(10, 6, 2, 20000) - (classes, ensaios, canais, linhas)\n",
      "(10, 6, 20000, 2) - (classes, ensaios, linhas, canais)----- 9\n",
      "(10, 6, 2, 20000) - (classes, ensaios, canais, linhas)\n",
      "(10, 6, 20000, 2) - (classes, ensaios, linhas, canais)----- 10\n",
      "(10, 6, 2, 20000) - (classes, ensaios, canais, linhas)\n",
      "False\n",
      "./datasets/khushaba/s1.npy\n",
      "(10, 6, 20000, 2) - (classes, ensaios, linhas, canais)----- 1\n",
      "(10, 6, 2, 20000) - (classes, ensaios, canais, linhas)\n",
      "True\n",
      "./datasets/khushaba/s2.npy\n",
      "False\n",
      "./datasets/khushaba/s3.npy\n",
      "(10, 6, 20000, 2) - (classes, ensaios, linhas, canais)----- 3\n",
      "(10, 6, 2, 20000) - (classes, ensaios, canais, linhas)\n",
      "False\n",
      "./datasets/khushaba/s4.npy\n",
      "(10, 6, 20000, 2) - (classes, ensaios, linhas, canais)----- 4\n",
      "(10, 6, 2, 20000) - (classes, ensaios, canais, linhas)\n",
      "False\n",
      "./datasets/khushaba/s5.npy\n",
      "(10, 6, 20000, 2) - (classes, ensaios, linhas, canais)----- 5\n",
      "(10, 6, 2, 20000) - (classes, ensaios, canais, linhas)\n",
      "False\n",
      "./datasets/khushaba/s6.npy\n",
      "(10, 6, 20000, 2) - (classes, ensaios, linhas, canais)----- 6\n",
      "(10, 6, 2, 20000) - (classes, ensaios, canais, linhas)\n",
      "False\n",
      "./datasets/khushaba/s7.npy\n",
      "(10, 6, 20000, 2) - (classes, ensaios, linhas, canais)----- 7\n",
      "(10, 6, 2, 20000) - (classes, ensaios, canais, linhas)\n",
      "False\n",
      "./datasets/khushaba/s8.npy\n",
      "(10, 6, 20000, 2) - (classes, ensaios, linhas, canais)----- 8\n",
      "(10, 6, 2, 20000) - (classes, ensaios, canais, linhas)\n",
      "False\n",
      "./datasets/khushaba/s9.npy\n",
      "(10, 6, 20000, 2) - (classes, ensaios, linhas, canais)----- 9\n",
      "(10, 6, 2, 20000) - (classes, ensaios, canais, linhas)\n",
      "False\n",
      "./datasets/khushaba/s10.npy\n",
      "(10, 6, 20000, 2) - (classes, ensaios, linhas, canais)----- 10\n",
      "(10, 6, 2, 20000) - (classes, ensaios, canais, linhas)\n",
      " (60, 2, 20000)\n",
      "Formato (shape) dos dados depois da divisão de janelas\n",
      "Dominio do tempo: (60, 2, 41, 1024) - (classes+ensaios, canais, janelas, linhas)\n",
      "Dominio da frequência:  (60, 2, 41, 513) - (classes+ensaios, canais, janelas, linhas)\n"
     ]
    }
   ],
   "source": [
    "%run preprocessing.ipynb"
   ]
  },
  {
   "cell_type": "markdown",
   "id": "e502801e",
   "metadata": {},
   "source": [
    "Uma característica é uma propriedade individual mensurável ou característica de um fenômeno que está sendo observado. Em EMG, uma característica pode ser extraída no domínio do tempo ou no domínio da frequência. As características a seguir foram retiradas do artigo *EMG Feature Extraction for Tolerance of White Gaussian Noise* \\[1\\].\n",
    "\n",
    "### Domínio do tempo\n",
    "\n",
    "1. Willison Amplitude (WAMP)\n",
    "\n",
    "    > $ \\sum_{i=1}^{N-1}f(|x_i - x_{i+1}|) \\\\$\n",
    "    $ f(x) = \\begin{cases} 1 & \\text{if } x \\gt threshold \\\\ 0 & \\text{otherwise} \\end{cases} $\n",
    "\n",
    "2. Variance of EMG (VAR)\n",
    "\n",
    "    > $ \\frac{1}{N-1}\\sum_{i=1}^{N}x_i^2 $\n",
    "\n",
    "3. Root Mean Square (RMS)\n",
    "\n",
    "    > $ \\sqrt{\\frac{1}{N}\\sum_{i=1}^{N}|x_i|^2} $\n",
    "\n",
    "4. Waveform Length (WL)\n",
    "    \n",
    "    > $ \\sum_{i=1}^{N-1}|x_{i+1} - x_i| $\n",
    "\n",
    "5. Zero Crossing (ZC)\n",
    "\n",
    "    > $ \\sum_{i=1}^{N}sgn([x_i - threshold][x_{i+1} - threshold]) \\\\$\n",
    "    $ sgn(x) = \\begin{cases} 1 & \\text{if } x \\gt threshold \\\\ 0 & \\text{otherwise} \\end{cases} $\n",
    "    $Sugestão: threshold = 0.4$\n",
    "\n",
    "### Domínio da frequência\n",
    "\n",
    "1. Auto Regressive (AR)\n",
    "\n",
    "    > $ - \\sum_{j=1}^{\\rho}\\alpha_j x_{j-1} + w_n $\n",
    "\n",
    "2. Median Frequency (FMD)\n",
    "\n",
    "    > $ \\frac{1}{2}\\sum_{j=1}^{M}PSD_j $\n",
    "\n",
    "3. Mean Frequency (FMN)\n",
    "\n",
    "    > $ \\sum_{j=1}^{M}f_j PSD_j \\Big{ / } \\sum_{j=1}^{M}PSD_j $\n",
    "\n",
    "4. Modified Median Frequency (MMDF)\n",
    "\n",
    "    > $ \\frac{1}{2}\\sum_{i=1}^{M}|w|_i $\n",
    "\n",
    "\n",
    "\\[1\\] Phinyomark, Angkoon & Limsakul, Chusak & Phukpattaranont, P.. (2008). EMG Feature Extraction for Tolerance of White Gaussian Noise.\n",
    "[Disponível neste link](https://www.researchgate.net/publication/263765853_EMG_Feature_Extraction_for_Tolerance_of_White_Gaussian_Noise)\n",
    "\n",
    "**Desafio 1**: Descrever as características de acordo com o artigo citado e outros disponíveis relacionados. O que está querendo \"ser visto\" em cada característica? Qual é o significado matemático de cada uma delas?"
   ]
  },
  {
   "cell_type": "markdown",
   "id": "b9cc5916",
   "metadata": {},
   "source": [
    "### Extraindo características\n",
    "\n",
    "É necessário implementar as características, geralmente em formato de funções ou métodos, para que seja possível aplicar tais funções aos dados de entrada e obter as características resultantes. A seguir temos a implementação das características VAR & RMS (domínio do tempo) e FDM & MMDF (domínio da frequência)."
   ]
  },
  {
   "cell_type": "markdown",
   "id": "dacc009c",
   "metadata": {},
   "source": [
    "# Fórmulas ofertadas pelo Professor"
   ]
  },
  {
   "cell_type": "code",
   "execution_count": 2,
   "id": "e15a73e9",
   "metadata": {},
   "outputs": [],
   "source": [
    "from math import prod\n",
    "\n",
    "# funções auxiliares:\n",
    "\n",
    "def PSD(w):\n",
    "    ''' definição da função PSD para o sinal no domínio da frequência '''\n",
    "    return np.abs(w) ** 2\n",
    "\n",
    "def f_j(j, SampleRate, M):\n",
    "    return (j * SampleRate) / (2 * M)\n",
    "\n",
    "\n",
    "\n",
    "# funções de extração de características:\n",
    "\n",
    "def var(x):\n",
    "    return np.sum(x ** 2, axis=-1) / (np.prod(x.shape) - 1)\n",
    "\n",
    "def rms(x):\n",
    "    return np.sqrt(np.sum(np.abs(x) ** 2, axis=-1) / (np.prod(x.shape) - 1))\n",
    "\n",
    "def WL(x):\n",
    "    return np.sum(np.abs(np.diff(x)), axis = -1)\n",
    "\n",
    "def fmd(w):\n",
    "    return np.sum(PSD(w), axis=-1) / 2\n",
    "\n",
    "def mmdf(w):\n",
    "    return np.sum(np.abs(w), axis=-1) / 2\n",
    "\n"
   ]
  },
  {
   "cell_type": "markdown",
   "id": "700519f1",
   "metadata": {},
   "source": [
    "# WAMP (domínio do tempo)"
   ]
  },
  {
   "cell_type": "markdown",
   "id": "98104110",
   "metadata": {},
   "source": [
    "### WAMP ( Amplitude de Willison): É o contador para cada mudança na amplitude do sinal exceder o threshold . Pode ser calculado pela somatória de 1 até n - 1, da amostra na posição i menos a amostra na posição i + 1,se amostra na posiçao i for maior que o treeshold definido."
   ]
  },
  {
   "cell_type": "code",
   "execution_count": 3,
   "id": "ff1675f0",
   "metadata": {},
   "outputs": [],
   "source": [
    "def WAMP(x, limiar):\n",
    "    return np.sum( np.abs(np.diff(x)) > limiar, axis= -1)\n"
   ]
  },
  {
   "cell_type": "markdown",
   "id": "04717f40",
   "metadata": {},
   "source": [
    "# VAR (domínio do tempo)"
   ]
  },
  {
   "cell_type": "markdown",
   "id": "9ac7dfdb",
   "metadata": {},
   "source": [
    "### VAR (Variância do EMG): É o quão longe as amostras estão do valor médio. Pode ser calculado pela somatória de 1 até n, de amostras x na posição j elevada ao quadrado. Com esse somatório multiplicando por 1 sobre n - 1 múmero de amostras."
   ]
  },
  {
   "cell_type": "markdown",
   "id": "f1273209",
   "metadata": {},
   "source": [
    "# RMS (domínio do tempo)"
   ]
  },
  {
   "cell_type": "markdown",
   "id": "d691e51e",
   "metadata": {},
   "source": [
    "### RMS (Raiz Quadrada da Média dos Quadrados): É a raiz quadrada da média aritmética dos quadrados dos valores. Pode ser calculada pela raiz quadrada de 1 sobre o número de amostras n, multiplicando pela somatória de 1 até n, de módulo de x na posição j elevado ao quadrado."
   ]
  },
  {
   "cell_type": "markdown",
   "id": "0a4334d9",
   "metadata": {},
   "source": [
    "# WL (domínio do tempo)"
   ]
  },
  {
   "cell_type": "markdown",
   "id": "f50bd6e2",
   "metadata": {},
   "source": [
    "### WL ( Comprimento da Forma de Onda): É o comprimento acumulativo da forma de onda ao longo de um período de tempo. Pode ser calculado pela somatória de 1 até número o de amostras n menos 1, do modulo da diferença da amostra x na posição i + 1 pela amostra x na posição i."
   ]
  },
  {
   "cell_type": "code",
   "execution_count": 4,
   "id": "c8bd59be",
   "metadata": {},
   "outputs": [],
   "source": [
    "def WL(x):\n",
    "    return np.sum(np.abs(np.diff(x)), axis = -1)\n"
   ]
  },
  {
   "cell_type": "markdown",
   "id": "fe13ce61",
   "metadata": {},
   "source": [
    "# Zero Crossing (domínio do tempo)"
   ]
  },
  {
   "cell_type": "markdown",
   "id": "4f111b00",
   "metadata": {},
   "source": [
    "### ZC (Zero Crossing): É o número de vezes que o sinal do EMG cruza o zero. Pode ser calculado pela somatória de 1 até o número de amostras n, de sgn(x), onde sgn(x) é uma condicional,onde só será verdadeira quando x na posição i multiplicado por x na posição i + 1 é menor ou igual a zero."
   ]
  },
  {
   "cell_type": "code",
   "execution_count": 5,
   "id": "0d2e3924",
   "metadata": {},
   "outputs": [],
   "source": [
    "#funções de extração de características:\n",
    "\n",
    "def ZC_Add(data, th):\n",
    "    \n",
    "    somatorio = 0\n",
    "    resultado = 0\n",
    "    tamanho = len(data)\n",
    "    \n",
    "    for i in range(tamanho - 1):\n",
    "        resultado1 = (data[i] * data[i+1])\n",
    "        resultado2 = np.abs((data[i] - data[i+1]))\n",
    "        \n",
    "        if(resultado1 < 0) and (resultado2 >=  th):\n",
    "            somatorio += 1\n",
    "    return somatorio\n",
    "\n",
    "def ZC(data, th):\n",
    "    \n",
    "    x,y,z = data.shape[:3]\n",
    "    somatorio_final = []\n",
    "    for i in range(x):\n",
    "        somatorio_fx = []\n",
    "        for j in range(y):\n",
    "            somatorio_fy = []\n",
    "            for k in range(z):\n",
    "                somatorio_fz = ZC_Add(data[i][j][k], th)\n",
    "                \n",
    "                somatorio_fy.append(somatorio_fz)\n",
    "            \n",
    "            somatorio_fx.append(somatorio_fy)\n",
    "        \n",
    "        somatorio_final.append(somatorio_fx)\n",
    "        \n",
    "    return np.array(somatorio_final)"
   ]
  },
  {
   "cell_type": "markdown",
   "id": "e92ce100",
   "metadata": {},
   "source": [
    "# PSD (domínio da frequência)"
   ]
  },
  {
   "cell_type": "markdown",
   "id": "ef27764c",
   "metadata": {},
   "source": [
    "### PSD (Densidade Espectral da Potência): É calculada pelo módulo da frequência na posição j, elevado ao quadrado."
   ]
  },
  {
   "cell_type": "markdown",
   "id": "dc9c8f7a",
   "metadata": {},
   "source": [
    "# FMD (domínio da frequência)"
   ]
  },
  {
   "cell_type": "markdown",
   "id": "1d762d55",
   "metadata": {},
   "source": [
    "### FMD (Frequência Mediana): É a frequência mediana do espectro de frequência. Pode ser calculada pela multiplicaçã de 1 sobre 2 pela somatória de 1 até o número de amostras m, de PSD na posição j."
   ]
  },
  {
   "cell_type": "markdown",
   "id": "4ee5aef6",
   "metadata": {},
   "source": [
    "# FMN (domínio da frequência)"
   ]
  },
  {
   "cell_type": "markdown",
   "id": "0d102115",
   "metadata": {},
   "source": [
    "### FMN (Frequência Média): É a frequência média do espectro de frequência. Pode ser calculada pela somatória de 1 até o número de amostras m, da frequência na posição j multiplicada pela PSD na posição j, dividido pela somatória de 1 até o número de amostras m, de PSD na posição j."
   ]
  },
  {
   "cell_type": "code",
   "execution_count": 6,
   "id": "43068528",
   "metadata": {},
   "outputs": [],
   "source": [
    "# funções auxiliares:\n",
    "\n",
    "def f_j(j, SampleRate, M):\n",
    "    return (j * SampleRate) / (2 * M)\n",
    "\n",
    "#funções de extração de característica:\n",
    "\n",
    "def FMN_Add(data):\n",
    "    M = len(data)\n",
    "    somatorio = 0\n",
    "    denominador = np.sum(PSD(data), axis=-1)\n",
    "    \n",
    "    for j in range(M):\n",
    "        somatorio += (f_j(j, 200, M) * PSD(data[j])) / denominador\n",
    "    return somatorio\n",
    "\n",
    "\n",
    "def FMN(data):\n",
    "    x,y,z = data.shape[:3]\n",
    "    somatorio_final = []\n",
    "    \n",
    "    for i in range(x):\n",
    "        somatorio_fx = []\n",
    "        for j in range(y):\n",
    "            somatorio_fy = []\n",
    "            for k in range(z):\n",
    "                somatorio_fz = FMN_Add(data[i][j][k])\n",
    "                \n",
    "                somatorio_fy.append(somatorio_fz)\n",
    "            \n",
    "            somatorio_fx.append(somatorio_fy)\n",
    "        \n",
    "        somatorio_final.append(somatorio_fx)\n",
    "        \n",
    "    return np.array(somatorio_final)"
   ]
  },
  {
   "cell_type": "markdown",
   "id": "4242d965",
   "metadata": {},
   "source": [
    "# MMDF (domínio da frequência)"
   ]
  },
  {
   "cell_type": "markdown",
   "id": "617cab3e",
   "metadata": {},
   "source": [
    "### MMDF (Mediana da Frequência Modificada):É a frequência onde o espectro se divide em duas regiões de iguais amplitudes. É calculada pela multiplicação de 1 sobre 2, pela somatória de 1 até m da amplitude do espectro na posição j."
   ]
  },
  {
   "cell_type": "markdown",
   "id": "9990df3e",
   "metadata": {},
   "source": [
    "# MMNF (domínio da frequência)"
   ]
  },
  {
   "cell_type": "markdown",
   "id": "bb498951",
   "metadata": {},
   "source": [
    "### MMNF (Média da frequência modificada): é a soma do produto do espectro de amplitude pela frequência, dividido pela soma total das amplitudes do espectro. Pode ser calculada como a somatória de 1 até j, da multiplicação da frequência na posição j,pela amplitude do espectro na posição j, dividido pela somatória de 1 até j, das amplitudes do espectro na posição j."
   ]
  },
  {
   "cell_type": "code",
   "execution_count": 7,
   "id": "080f6dbc",
   "metadata": {},
   "outputs": [],
   "source": [
    "# funções auxiliares:\n",
    "\n",
    "def A_j(w):\n",
    "    return np.abs(w)\n",
    "\n",
    "#funções de extração de características:\n",
    "\n",
    "def MMNF_Add(data):\n",
    "    \n",
    "    M = len(data)\n",
    "    somatorio = 0\n",
    "    denominador = np.sum(A_j(data), axis=-1)\n",
    "    \n",
    "    for j in range(M):\n",
    "        somatorio += ( f_j(j, 200, M) * A_j(data[j])) / denominador\n",
    "    return somatorio\n",
    "\n",
    "\n",
    "def MMNF(data):\n",
    "   \n",
    "    x,y,z = data.shape[:3]\n",
    "    somatorio_final = []\n",
    "    \n",
    "    for i in range(x):\n",
    "        somatorio_fx = []\n",
    "        for j in range(y):\n",
    "            somatorio_fy = []\n",
    "            for k in range(z):\n",
    "                somatorio_fz = MMNF_Add(data[i][j][k])\n",
    "                \n",
    "                somatorio_fy.append(somatorio_fz)\n",
    "            \n",
    "            somatorio_fx.append(somatorio_fy)\n",
    "        \n",
    "        somatorio_final.append(somatorio_fx)\n",
    "        \n",
    "    return np.array(somatorio_final)"
   ]
  },
  {
   "cell_type": "markdown",
   "id": "9b29e8d7",
   "metadata": {},
   "source": [
    "**Desafio 2**: Implemente todas as características apresentadas neste tutorial em formato de funções. Sinta-se livre também para buscar e implementar características EMG além das apresentadas, citando as fontes de tais características.\n",
    "\n",
    "\n",
    "## Vetor de características\n",
    "\n",
    "Ao final da implementação e seleção das características, deve ser escolhida as características e então teremos um vetor com todas elas implementadas.\n",
    "\n",
    "O vetor de características estará organizado da seguinte forma (exemplo p/ VAR, RMS, RDM e MMDF):\n",
    "\n",
    "| ID sample | VAR1 | RMS1 | FMD1 | MMDF1 | VAR2 | RMS2 | FMD2 | MMDF2 | Classe |\n",
    "|:---------:|:----:|:----:|:----:|:-----:|------|------|------|-------|:------:|\n",
    "|     1     |  v1  |  v1  |  v1  |   v1  | v1   | v1   | v1   | v1    |    0   |\n",
    "|     2     |  v2  |  v2  |  v2  |   v2  | v2   | v2   | v2   | v2    |    0   |\n",
    "|    ...    |  ... |  ... |  ... |  ...  | ...  | ...  | ...  | ...   |   ...  |\n",
    "|     N     |  vN  |  vN  |  vN  |   vN  | vN   | vN   | vN   | vN    |    7   |\n",
    "\n",
    "## Implementação do vetor"
   ]
  },
  {
   "cell_type": "markdown",
   "id": "3b0181f3",
   "metadata": {},
   "source": [
    "## Cálculo do PontoMax foi criado no estudo do threshold, para fazer média do ponto mais alto com o a mediana, e posteriormente também o utilizamos para fazer a média com o ponto mais alto com o a média."
   ]
  },
  {
   "cell_type": "code",
   "execution_count": 8,
   "id": "904a6e2e",
   "metadata": {},
   "outputs": [
    {
     "data": {
      "text/plain": [
       "0.001966231296292373"
      ]
     },
     "execution_count": 8,
     "metadata": {},
     "output_type": "execute_result"
    }
   ],
   "source": [
    "PontoMax = np.max(chunks_time)\n",
    "PontoMax"
   ]
  },
  {
   "cell_type": "markdown",
   "id": "36fd374a",
   "metadata": {},
   "source": [
    "## A mediana foi necessário no cálculo do WAMP, e também foi estudado a possibilidadede ser utilizada no cálculo do Threshold (MeuLimiar)"
   ]
  },
  {
   "cell_type": "code",
   "execution_count": 9,
   "id": "956ce055",
   "metadata": {},
   "outputs": [
    {
     "data": {
      "text/plain": [
       "2.4288825703437275e-06"
      ]
     },
     "execution_count": 9,
     "metadata": {},
     "output_type": "execute_result"
    }
   ],
   "source": [
    "Mediana = np.median(chunks_time)\n",
    "Mediana\n"
   ]
  },
  {
   "cell_type": "markdown",
   "id": "81a93052",
   "metadata": {},
   "source": [
    "## O MeuLimiar seria o threshold, feito pela combinação do ponto mais alto com a mediana."
   ]
  },
  {
   "cell_type": "code",
   "execution_count": 10,
   "id": "5bd038b8",
   "metadata": {},
   "outputs": [
    {
     "data": {
      "text/plain": [
       "0.0009843300894313584"
      ]
     },
     "execution_count": 10,
     "metadata": {},
     "output_type": "execute_result"
    }
   ],
   "source": [
    "MeuLimiar = (PontoMax + Mediana) / 2\n",
    "MeuLimiar"
   ]
  },
  {
   "cell_type": "markdown",
   "id": "27fec693",
   "metadata": {},
   "source": [
    "## O cálculo da média foi feito para o estudo do threshold, na combinação com o ponto mais alto."
   ]
  },
  {
   "cell_type": "code",
   "execution_count": 11,
   "id": "a0d9ca4c",
   "metadata": {},
   "outputs": [
    {
     "data": {
      "text/plain": [
       "-1.3098920532612888e-08"
      ]
     },
     "execution_count": 11,
     "metadata": {},
     "output_type": "execute_result"
    }
   ],
   "source": [
    "Media = np.mean(chunks_time)\n",
    "Media"
   ]
  },
  {
   "cell_type": "markdown",
   "id": "3331d8b7",
   "metadata": {},
   "source": [
    "## O MeuLimiarNovo seria o threshold, feito pela combinação do ponto mais alto com a média."
   ]
  },
  {
   "cell_type": "code",
   "execution_count": 12,
   "id": "1b006698",
   "metadata": {},
   "outputs": [
    {
     "data": {
      "text/plain": [
       "0.0009831090986859204"
      ]
     },
     "execution_count": 12,
     "metadata": {},
     "output_type": "execute_result"
    }
   ],
   "source": [
    "MeuLimiarNovo = (PontoMax + Media) / 2\n",
    "MeuLimiarNovo"
   ]
  },
  {
   "cell_type": "markdown",
   "id": "5c1aa25e",
   "metadata": {},
   "source": [
    "## Nessa etapa são colocadas cada característica numa mesma lista."
   ]
  },
  {
   "cell_type": "code",
   "execution_count": 13,
   "id": "61fc7ee4",
   "metadata": {},
   "outputs": [
    {
     "data": {
      "text/plain": [
       "(9, 60, 2, 41)"
      ]
     },
     "execution_count": 13,
     "metadata": {},
     "output_type": "execute_result"
    }
   ],
   "source": [
    "final_data = list()\n",
    "\n",
    "final_data.append(WAMP(chunks_time, Mediana))\n",
    "final_data.append(var(chunks_time))\n",
    "final_data.append(rms(chunks_time))\n",
    "final_data.append(WL(chunks_time))\n",
    "final_data.append(ZC(chunks_time, 0))\n",
    "\n",
    "final_data.append(fmd(chunks_freq))\n",
    "final_data.append(FMN(chunks_freq))\n",
    "final_data.append(mmdf(chunks_freq))\n",
    "final_data.append(MMNF(chunks_freq))\n",
    "\n",
    "\n",
    "final = np.array(final_data)\n",
    "final.shape"
   ]
  },
  {
   "cell_type": "markdown",
   "id": "c68bd91f",
   "metadata": {},
   "source": [
    "## Redimensionalisando o vetor de 4 dimensẽs para 2 dimensões, onde a primeira dimensão irá multiplicar com a terceira e se tornará a segunda dimensão do vetor final, e a segunda dimensão irá multiplicar com a quarta dimensão se tornando a primeira dimensão do vetor final."
   ]
  },
  {
   "cell_type": "markdown",
   "id": "2d93df61",
   "metadata": {},
   "source": [
    "É necessário que seja reordenado as dimensões do vetor de características, pois cada característica (de cada canal), deve corresponder à última dimensão do vetor. Por fim, as outras dimensões são concatenadas para o número de amostras."
   ]
  },
  {
   "cell_type": "code",
   "execution_count": 14,
   "id": "b56d255e",
   "metadata": {},
   "outputs": [
    {
     "data": {
      "text/plain": [
       "(2460, 18)"
      ]
     },
     "execution_count": 14,
     "metadata": {},
     "output_type": "execute_result"
    }
   ],
   "source": [
    "data = final.transpose(1, 3, 2, 0)\n",
    "X = data.reshape(data.shape[0]*data.shape[1], data.shape[2]*data.shape[3])\n",
    "X.shape"
   ]
  },
  {
   "cell_type": "markdown",
   "id": "47fbd7ab",
   "metadata": {},
   "source": [
    "## Seleção de características\n",
    "\n",
    "Nesta etapa, são selecionadas as características que mais afetam positivamente no resultado final da classificação. Vamos estudar os métodos de seleção de características nesta [página do projeto sklearn](https://scikit-learn.org/stable/modules/feature_selection.html).\n",
    "\n",
    "**Desafio 3**: mostrar o resultado para os dados de trabalho, para os seguintes métodos se leção de características:\n",
    "- VarianceThreshold\n",
    "- Univariate feature selection\n",
    "    - escolha o que mais for \"interessante\": `SelectKBest`, `SelectPercentile` e `GenericUnivariateSelect`\n",
    "- Recursive feature elimination"
   ]
  },
  {
   "cell_type": "markdown",
   "id": "266d086b",
   "metadata": {},
   "source": [
    "# Variance Threshold"
   ]
  },
  {
   "cell_type": "code",
   "execution_count": 23,
   "id": "625bfdfe",
   "metadata": {},
   "outputs": [],
   "source": [
    "from sklearn.feature_selection import VarianceThreshold\n",
    "sel = VarianceThreshold(threshold = (0.1))\n",
    "X_Variance = sel.fit_transform(X)"
   ]
  },
  {
   "cell_type": "code",
   "execution_count": 24,
   "id": "af701c0d",
   "metadata": {},
   "outputs": [
    {
     "data": {
      "text/plain": [
       "(2460, 8)"
      ]
     },
     "execution_count": 24,
     "metadata": {},
     "output_type": "execute_result"
    }
   ],
   "source": [
    "X_Variance.shape"
   ]
  },
  {
   "cell_type": "markdown",
   "id": "54aef11a",
   "metadata": {},
   "source": [
    "# SelectKBest"
   ]
  },
  {
   "cell_type": "code",
   "execution_count": 27,
   "id": "e26a23cc",
   "metadata": {},
   "outputs": [
    {
     "name": "stdout",
     "output_type": "stream",
     "text": [
      "Shape dos rótulos: (2460,)\n"
     ]
    }
   ],
   "source": [
    "# criação dos rótulos\n",
    "# 1,1,1,1,1,1,1,1,1,1,...,2,2,2,2,2,2,2,2,2,2,...,3,...\n",
    "\n",
    "y = [[str(i)] * int(X.shape[0] / 10) for i in range(10)]\n",
    "y = np.array(y).flatten()\n",
    "print('Shape dos rótulos:', y.shape)"
   ]
  },
  {
   "cell_type": "code",
   "execution_count": 28,
   "id": "76d16da0",
   "metadata": {},
   "outputs": [],
   "source": [
    "from sklearn.feature_selection import SelectKBest, chi2\n",
    "X_new = SelectKBest(chi2, k = 10).fit_transform(X, y)\n"
   ]
  },
  {
   "cell_type": "code",
   "execution_count": 29,
   "id": "0aa9950a",
   "metadata": {},
   "outputs": [
    {
     "data": {
      "text/plain": [
       "(2460, 10)"
      ]
     },
     "execution_count": 29,
     "metadata": {},
     "output_type": "execute_result"
    }
   ],
   "source": [
    "X_new.shape"
   ]
  }
 ],
 "metadata": {
  "kernelspec": {
   "display_name": "Python 3 (ipykernel)",
   "language": "python",
   "name": "python3"
  },
  "language_info": {
   "codemirror_mode": {
    "name": "ipython",
    "version": 3
   },
   "file_extension": ".py",
   "mimetype": "text/x-python",
   "name": "python",
   "nbconvert_exporter": "python",
   "pygments_lexer": "ipython3",
   "version": "3.9.2"
  }
 },
 "nbformat": 4,
 "nbformat_minor": 5
}
