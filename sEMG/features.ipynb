{
 "cells": [
  {
   "cell_type": "markdown",
   "id": "498e344d",
   "metadata": {},
   "source": [
    "# Extração e seleção de características\n",
    "\n",
    "As características que são extraídas dos dados dependem de sua natureza. Os dados EMG são sinais elétricos coletados dentro de um período de tempo, portanto são dados no domínio do tempo. As características deste domínio são extraídas dele. Também é possível transformar os dados EMG para o domínio da frequência e extrair características neste domínio. Existem diversas características que podem ser extraídas de cada domínio, entretando nem todas elas serão relevantes. Cada problema se beneficia de características ou combinações delas. Portanto, é preciso que haja uma seleção de características para encontrar a combinação de características que trará melhor resultado na posterior classificação dos dados."
   ]
  },
  {
   "cell_type": "markdown",
   "id": "c5ab992f",
   "metadata": {},
   "source": [
    "## Reutilizando os passos anteriores\n",
    "\n",
    "É necessário carregar os dados pré-processados, para dar início à extração de características. No jupyter notebook podemos utilizar o namespace completo de outro notebook:"
   ]
  },
  {
   "cell_type": "code",
   "execution_count": 4,
   "id": "dda6bf67",
   "metadata": {},
   "outputs": [
    {
     "name": "stdout",
     "output_type": "stream",
     "text": [
      "(20000, 2)\n",
      "(10, 6, 20000, 2) - (classes, ensaios, linhas, canais)\n",
      "(10, 6, 2, 20000) - (classes, ensaios, canais, linhas)\n",
      "(10, 6, 20000, 2) - (classes, ensaios, linhas, canais)----- 1\n",
      "(10, 6, 2, 20000) - (classes, ensaios, canais, linhas)\n",
      "(10, 6, 20000, 2) - (classes, ensaios, linhas, canais)----- 2\n",
      "(10, 6, 2, 20000) - (classes, ensaios, canais, linhas)\n",
      "(10, 6, 20000, 2) - (classes, ensaios, linhas, canais)----- 3\n",
      "(10, 6, 2, 20000) - (classes, ensaios, canais, linhas)\n",
      "(10, 6, 20000, 2) - (classes, ensaios, linhas, canais)----- 4\n",
      "(10, 6, 2, 20000) - (classes, ensaios, canais, linhas)\n",
      "(10, 6, 20000, 2) - (classes, ensaios, linhas, canais)----- 5\n",
      "(10, 6, 2, 20000) - (classes, ensaios, canais, linhas)\n",
      "(10, 6, 20000, 2) - (classes, ensaios, linhas, canais)----- 6\n",
      "(10, 6, 2, 20000) - (classes, ensaios, canais, linhas)\n",
      "(10, 6, 20000, 2) - (classes, ensaios, linhas, canais)----- 7\n",
      "(10, 6, 2, 20000) - (classes, ensaios, canais, linhas)\n",
      "(10, 6, 20000, 2) - (classes, ensaios, linhas, canais)----- 8\n",
      "(10, 6, 2, 20000) - (classes, ensaios, canais, linhas)\n",
      "(10, 6, 20000, 2) - (classes, ensaios, linhas, canais)----- 9\n",
      "(10, 6, 2, 20000) - (classes, ensaios, canais, linhas)\n",
      "(10, 6, 20000, 2) - (classes, ensaios, linhas, canais)----- 10\n",
      "(10, 6, 2, 20000) - (classes, ensaios, canais, linhas)\n",
      "True\n",
      "./datasets/khushaba/s1.npy\n",
      "True\n",
      "./datasets/khushaba/s2.npy\n",
      "True\n",
      "./datasets/khushaba/s3.npy\n",
      "True\n",
      "./datasets/khushaba/s4.npy\n",
      "True\n",
      "./datasets/khushaba/s5.npy\n",
      "True\n",
      "./datasets/khushaba/s6.npy\n",
      "True\n",
      "./datasets/khushaba/s7.npy\n",
      "True\n",
      "./datasets/khushaba/s8.npy\n",
      "True\n",
      "./datasets/khushaba/s9.npy\n",
      "True\n",
      "./datasets/khushaba/s10.npy\n",
      " (60, 2, 20000)\n",
      "Formato (shape) dos dados depois da divisão de janelas\n",
      "Dominio do tempo: (60, 2, 41, 1024) - (classes+ensaios, canais, janelas, linhas)\n",
      "Dominio da frequência:  (60, 2, 41, 513) - (classes+ensaios, canais, janelas, linhas)\n"
     ]
    }
   ],
   "source": [
    "%run preprocessing.ipynb"
   ]
  },
  {
   "cell_type": "markdown",
   "id": "e502801e",
   "metadata": {},
   "source": [
    "Uma característica é uma propriedade individual mensurável ou característica de um fenômeno que está sendo observado. Em EMG, uma característica pode ser extraída no domínio do tempo ou no domínio da frequência. As características a seguir foram retiradas do artigo *EMG Feature Extraction for Tolerance of White Gaussian Noise* \\[1\\].\n",
    "\n",
    "### Domínio do tempo\n",
    "\n",
    "1. Willison Amplitude (WAMP)\n",
    "\n",
    "    > $ \\sum_{i=1}^{N-1}f(|x_i - x_{i+1}|) \\\\$\n",
    "    $ f(x) = \\begin{cases} 1 & \\text{if } x \\gt threshold \\\\ 0 & \\text{otherwise} \\end{cases} $\n",
    "\n",
    "2. Variance of EMG (VAR)\n",
    "\n",
    "    > $ \\frac{1}{N-1}\\sum_{i=1}^{N}x_i^2 $\n",
    "\n",
    "3. Root Mean Square (RMS)\n",
    "\n",
    "    > $ \\sqrt{\\frac{1}{N}\\sum_{i=1}^{N}|x_i|^2} $\n",
    "\n",
    "4. Waveform Length (WL)\n",
    "    \n",
    "    > $ \\sum_{i=1}^{N-1}|x_{i+1} - x_i| $\n",
    "\n",
    "5. Zero Crossing (ZC)\n",
    "\n",
    "    > $ \\sum_{i=1}^{N}sgn([x_i - threshold][x_{i+1} - threshold]) \\\\$\n",
    "    $ sgn(x) = \\begin{cases} 1 & \\text{if } x \\gt threshold \\\\ 0 & \\text{otherwise} \\end{cases} $\n",
    "    $Sugestão: threshold = 0.4$\n",
    "\n",
    "### Domínio da frequência\n",
    "\n",
    "1. Auto Regressive (AR)\n",
    "\n",
    "    > $ - \\sum_{j=1}^{\\rho}\\alpha_j x_{j-1} + w_n $\n",
    "\n",
    "2. Median Frequency (FMD)\n",
    "\n",
    "    > $ \\frac{1}{2}\\sum_{j=1}^{M}PSD_j $\n",
    "\n",
    "3. Mean Frequency (FMN)\n",
    "\n",
    "    > $ \\sum_{j=1}^{M}f_j PSD_j \\Big{ / } \\sum_{j=1}^{M}PSD_j $\n",
    "\n",
    "4. Modified Median Frequency (MMDF)\n",
    "\n",
    "    > $ \\frac{1}{2}\\sum_{i=1}^{M}|w|_i $\n",
    "\n",
    "\n",
    "\\[1\\] Phinyomark, Angkoon & Limsakul, Chusak & Phukpattaranont, P.. (2008). EMG Feature Extraction for Tolerance of White Gaussian Noise.\n",
    "[Disponível neste link](https://www.researchgate.net/publication/263765853_EMG_Feature_Extraction_for_Tolerance_of_White_Gaussian_Noise)\n",
    "\n",
    "**Desafio 1**: Descrever as características de acordo com o artigo citado e outros disponíveis relacionados. O que está querendo \"ser visto\" em cada característica? Qual é o significado matemático de cada uma delas?"
   ]
  },
  {
   "cell_type": "markdown",
   "id": "b9cc5916",
   "metadata": {},
   "source": [
    "### Extraindo características\n",
    "\n",
    "É necessário implementar as características, geralmente em formato de funções ou métodos, para que seja possível aplicar tais funções aos dados de entrada e obter as características resultantes. A seguir temos a implementação das características VAR & RMS (domínio do tempo) e FDM & MMDF (domínio da frequência)."
   ]
  },
  {
   "cell_type": "code",
   "execution_count": 70,
   "id": "e15a73e9",
   "metadata": {},
   "outputs": [],
   "source": [
    "from math import prod\n",
    "\n",
    "# funções auxiliares\n",
    "def PSD(w):\n",
    "    ''' definição da função PSD para o sinal no domínio da frequência '''\n",
    "    return np.abs(w) ** 2\n",
    "\n",
    "def f_j(j, SampleRate, M):\n",
    "    return (j * SampleRate) / (2 * M)\n",
    "\n",
    "def A_j(w):\n",
    "    return np.abs(w)\n",
    "\n",
    "\n",
    "# funções de extração de características\n",
    "\n",
    "\n",
    "def WAMP(x, limiar):\n",
    "    return np.sum( np.abs(np.diff(x)) > limiar, axis= -1)\n",
    "\n",
    "def var(x):\n",
    "    return np.sum(x ** 2, axis=-1) / (np.prod(x.shape) - 1)\n",
    "\n",
    "def rms(x):\n",
    "    return np.sqrt(np.sum(np.abs(x) ** 2, axis=-1) / (np.prod(x.shape) - 1))\n",
    "\n",
    "def WL(x):\n",
    "    return np.sum(np.abs(np.diff(x)), axis = -1)\n",
    "\n",
    "def ZC_Add(data, th):\n",
    "    \n",
    "    somatorio = 0\n",
    "    resultado = 0\n",
    "    tamanho = len(data)\n",
    "    \n",
    "    for i in range(tamanho - 1):\n",
    "        resultado1 = (data[i] * data[i+1])\n",
    "        resultado2 = np.abs((data[i] - data[i+1]))\n",
    "        \n",
    "        if(resultado1 < 0) and (resultado2 >=  th):\n",
    "            somatorio += 1\n",
    "    \n",
    "    return somatorio\n",
    "\n",
    "def FMD(w):\n",
    "    return np.sum(PSD(w), axis=-1) / 2\n",
    "\n",
    "def FMN_Add(data):\n",
    "    M = len(data)\n",
    "    somatorio = 0\n",
    "    \n",
    "    for j in range(M):\n",
    "        somatorio += (f_j(j, 41, M) * PSD(data)) / np.sum(PSD(data))\n",
    "    \n",
    "    return somatorio\n",
    "\n",
    "def mmdf(w):\n",
    "    return np.sum(np.abs(w), axis=-1) / 2\n",
    "\n",
    "def MMNF_Add(w):\n",
    "    M = len(data)\n",
    "    somatorio = 0\n",
    "    \n",
    "    for j in range(M):\n",
    "        somatorio += (f_j(j, 41, M) * A_j(data)) / np.sum(A_j(data))\n",
    "    \n",
    "    return somatorio"
   ]
  },
  {
   "cell_type": "code",
   "execution_count": 71,
   "id": "43068528",
   "metadata": {},
   "outputs": [],
   "source": [
    "def FMN(data):\n",
    "    x,y,z = data.shape[:3]\n",
    "    somatorio_final = []\n",
    "    \n",
    "    for i in range(x):\n",
    "        somatorio_fx = []\n",
    "        for j in range(y):\n",
    "            somatorio_fy = []\n",
    "            for k in range(z):\n",
    "                somatorio_fz = FMN_Add(data[i][j][k])\n",
    "                \n",
    "                somatorio_fy.append(somatorio_fz)\n",
    "            \n",
    "            somatorio_fx.append(somatorio_fy)\n",
    "        \n",
    "        somatorio_final.append(somatorio_fx)\n",
    "        \n",
    "    return np.array(somatorio_final)"
   ]
  },
  {
   "cell_type": "markdown",
   "id": "9990df3e",
   "metadata": {},
   "source": [
    "# MMNF"
   ]
  },
  {
   "cell_type": "code",
   "execution_count": 72,
   "id": "080f6dbc",
   "metadata": {},
   "outputs": [],
   "source": [
    "def MMNF(data):\n",
    "    x,y,z = data.shape[:3]\n",
    "    somatorio_final = []\n",
    "    \n",
    "    for i in range(x):\n",
    "        somatorio_fx = []\n",
    "        for j in range(y):\n",
    "            somatorio_fy = []\n",
    "            for k in range(z):\n",
    "                somatorio_fz = MMNF_Add(data[i][j][k])\n",
    "                \n",
    "                somatorio_fy.append(somatorio_fz)\n",
    "            \n",
    "            somatorio_fx.append(somatorio_fy)\n",
    "        \n",
    "        somatorio_final.append(somatorio_fx)\n",
    "        \n",
    "    return np.array(somatorio_final)"
   ]
  },
  {
   "cell_type": "code",
   "execution_count": null,
   "id": "3716b939",
   "metadata": {},
   "outputs": [],
   "source": [
    "MMNF(chunks_freq)"
   ]
  },
  {
   "cell_type": "markdown",
   "id": "9b29e8d7",
   "metadata": {},
   "source": [
    "**Desafio 2**: Implemente todas as características apresentadas neste tutorial em formato de funções. Sinta-se livre também para buscar e implementar características EMG além das apresentadas, citando as fontes de tais características.\n",
    "\n",
    "\n",
    "## Vetor de características\n",
    "\n",
    "Ao final da implementação e seleção das características, deve ser escolhida as características e então teremos um vetor com todas elas implementadas.\n",
    "\n",
    "O vetor de características estará organizado da seguinte forma (exemplo p/ VAR, RMS, RDM e MMDF):\n",
    "\n",
    "| ID sample | VAR1 | RMS1 | FMD1 | MMDF1 | VAR2 | RMS2 | FMD2 | MMDF2 | Classe |\n",
    "|:---------:|:----:|:----:|:----:|:-----:|------|------|------|-------|:------:|\n",
    "|     1     |  v1  |  v1  |  v1  |   v1  | v1   | v1   | v1   | v1    |    0   |\n",
    "|     2     |  v2  |  v2  |  v2  |   v2  | v2   | v2   | v2   | v2    |    0   |\n",
    "|    ...    |  ... |  ... |  ... |  ...  | ...  | ...  | ...  | ...   |   ...  |\n",
    "|     N     |  vN  |  vN  |  vN  |   vN  | vN   | vN   | vN   | vN    |    7   |\n",
    "\n",
    "## Implementação do vetor"
   ]
  },
  {
   "cell_type": "code",
   "execution_count": 8,
   "id": "9506e312",
   "metadata": {},
   "outputs": [
    {
     "data": {
      "text/plain": [
       "(60, 2, 41, 1024)"
      ]
     },
     "execution_count": 8,
     "metadata": {},
     "output_type": "execute_result"
    }
   ],
   "source": [
    "chunks_time.shape"
   ]
  },
  {
   "cell_type": "code",
   "execution_count": 12,
   "id": "904a6e2e",
   "metadata": {},
   "outputs": [
    {
     "data": {
      "text/plain": [
       "0.001966231296292373"
      ]
     },
     "execution_count": 12,
     "metadata": {},
     "output_type": "execute_result"
    }
   ],
   "source": [
    "PontoMax = np.max(chunks_time)\n",
    "PontoMax"
   ]
  },
  {
   "cell_type": "code",
   "execution_count": 13,
   "id": "956ce055",
   "metadata": {},
   "outputs": [
    {
     "data": {
      "text/plain": [
       "2.4288825703437275e-06"
      ]
     },
     "execution_count": 13,
     "metadata": {},
     "output_type": "execute_result"
    }
   ],
   "source": [
    "Mediana = np.median(chunks_time)\n",
    "Mediana\n"
   ]
  },
  {
   "cell_type": "code",
   "execution_count": 14,
   "id": "5bd038b8",
   "metadata": {},
   "outputs": [
    {
     "data": {
      "text/plain": [
       "0.0009843300894313584"
      ]
     },
     "execution_count": 14,
     "metadata": {},
     "output_type": "execute_result"
    }
   ],
   "source": [
    "MeuLimiar = (PontoMax + Mediana) / 2\n",
    "MeuLimiar"
   ]
  },
  {
   "cell_type": "code",
   "execution_count": 32,
   "id": "a0d9ca4c",
   "metadata": {},
   "outputs": [
    {
     "data": {
      "text/plain": [
       "-1.3098920532612888e-08"
      ]
     },
     "execution_count": 32,
     "metadata": {},
     "output_type": "execute_result"
    }
   ],
   "source": [
    "Media = np.mean(chunks_time)\n",
    "Media"
   ]
  },
  {
   "cell_type": "code",
   "execution_count": 34,
   "id": "1b006698",
   "metadata": {},
   "outputs": [
    {
     "data": {
      "text/plain": [
       "0.0009831090986859204"
      ]
     },
     "execution_count": 34,
     "metadata": {},
     "output_type": "execute_result"
    }
   ],
   "source": [
    "MeuLimiarNovo = (PontoMax + Media) / 2\n",
    "MeuLimiarNovo"
   ]
  },
  {
   "cell_type": "code",
   "execution_count": 19,
   "id": "bbeab92c",
   "metadata": {},
   "outputs": [
    {
     "data": {
      "text/plain": [
       "(60, 2, 41, 1024)"
      ]
     },
     "execution_count": 19,
     "metadata": {},
     "output_type": "execute_result"
    }
   ],
   "source": [
    "chunks_time.shape"
   ]
  },
  {
   "cell_type": "code",
   "execution_count": 57,
   "id": "ea978fd8",
   "metadata": {},
   "outputs": [],
   "source": [
    "def ZC(data, th):\n",
    "    \n",
    "    x,y,z = data.shape[:3]\n",
    "    somatorio_final = []\n",
    "    for i in range(x):\n",
    "        somatorio_fx = []\n",
    "        for j in range(y):\n",
    "            somatorio_fy = []\n",
    "            for k in range(z):\n",
    "                somatorio_fz = ZC_Add(data[i][j][k], th)\n",
    "                \n",
    "                somatorio_fy.append(somatorio_fz)\n",
    "            \n",
    "            somatorio_fx.append(somatorio_fy)\n",
    "        \n",
    "        somatorio_final.append(somatorio_fx)\n",
    "        \n",
    "    return np.array(somatorio_final)"
   ]
  },
  {
   "cell_type": "code",
   "execution_count": 58,
   "id": "38fb4bb2",
   "metadata": {},
   "outputs": [
    {
     "data": {
      "text/plain": [
       "array([[[105, 104, 109, ..., 108, 106, 104],\n",
       "        [140, 133, 131, ..., 118, 131, 125]],\n",
       "\n",
       "       [[104, 103, 110, ...,  90,  94,  98],\n",
       "        [120, 125, 126, ..., 117, 117, 122]],\n",
       "\n",
       "       [[100,  94,  93, ..., 105, 110, 100],\n",
       "        [131, 130, 128, ..., 119, 119, 114]],\n",
       "\n",
       "       ...,\n",
       "\n",
       "       [[ 93,  85,  88, ..., 101,  96,  86],\n",
       "        [101, 104, 101, ..., 102, 106, 117]],\n",
       "\n",
       "       [[103,  99,  85, ...,  98,  95,  89],\n",
       "        [105, 100,  92, ..., 105,  99, 100]],\n",
       "\n",
       "       [[ 90,  98, 101, ..., 104,  94,  89],\n",
       "        [113, 108,  97, ...,  94,  92, 100]]])"
      ]
     },
     "execution_count": 58,
     "metadata": {},
     "output_type": "execute_result"
    }
   ],
   "source": [
    "ZC(chunks_time, Mediana)\n"
   ]
  },
  {
   "cell_type": "code",
   "execution_count": 37,
   "id": "b26c9874",
   "metadata": {},
   "outputs": [
    {
     "data": {
      "text/plain": [
       "array([[[ 965,  957,  967, ...,  986,  988,  983],\n",
       "        [ 878,  898,  914, ...,  934,  942,  932]],\n",
       "\n",
       "       [[ 984,  989,  980, ...,  970,  982,  986],\n",
       "        [ 923,  945,  958, ...,  927,  920,  915]],\n",
       "\n",
       "       [[ 939,  960,  963, ...,  984,  986,  985],\n",
       "        [ 840,  878,  904, ...,  950,  929,  927]],\n",
       "\n",
       "       ...,\n",
       "\n",
       "       [[ 994,  988,  989, ...,  990,  992, 1003],\n",
       "        [ 972,  977,  975, ...,  970,  968,  956]],\n",
       "\n",
       "       [[ 963,  965,  982, ...,  992,  990,  987],\n",
       "        [ 947,  951,  966, ...,  945,  955,  955]],\n",
       "\n",
       "       [[ 945,  974,  985, ...,  991,  994,  999],\n",
       "        [ 915,  941,  956, ...,  943,  980,  982]]])"
      ]
     },
     "execution_count": 37,
     "metadata": {},
     "output_type": "execute_result"
    }
   ],
   "source": [
    "WAMP(chunks_time, Mediana)"
   ]
  },
  {
   "cell_type": "code",
   "execution_count": 59,
   "id": "61fc7ee4",
   "metadata": {},
   "outputs": [
    {
     "data": {
      "text/plain": [
       "(7, 60, 2, 41)"
      ]
     },
     "execution_count": 59,
     "metadata": {},
     "output_type": "execute_result"
    }
   ],
   "source": [
    "final_data = list()\n",
    "\n",
    "final_data.append(var(chunks_time))\n",
    "final_data.append(rms(chunks_time))\n",
    "final_data.append(WAMP(chunks_time, Mediana))\n",
    "final_data.append(WL(chunks_time))\n",
    "final_data.append(ZC(chunks_time, 0))\n",
    "\n",
    "final_data.append(fmd(chunks_freq))\n",
    "final_data.append(mmdf(chunks_freq))\n",
    "\n",
    "\n",
    "final = np.array(final_data)\n",
    "final.shape"
   ]
  },
  {
   "cell_type": "markdown",
   "id": "2d93df61",
   "metadata": {},
   "source": [
    "É necessário que seja reordenado as dimensões do vetor de características, pois cada característica (de cada canal), deve corresponder à última dimensão do vetor. Por fim, as outras dimensões são concatenadas para o número de amostras."
   ]
  },
  {
   "cell_type": "code",
   "execution_count": 4,
   "id": "b56d255e",
   "metadata": {},
   "outputs": [
    {
     "data": {
      "text/plain": [
       "(2460, 8)"
      ]
     },
     "execution_count": 4,
     "metadata": {},
     "output_type": "execute_result"
    }
   ],
   "source": [
    "data = final.transpose(1, 3, 2, 0)\n",
    "X = data.reshape(data.shape[0]*data.shape[1], data.shape[2]*data.shape[3])\n",
    "X.shape"
   ]
  },
  {
   "cell_type": "markdown",
   "id": "47fbd7ab",
   "metadata": {},
   "source": [
    "## Seleção de características\n",
    "\n",
    "Nesta etapa, são selecionadas as características que mais afetam positivamente no resultado final da classificação. Vamos estudar os métodos de seleção de características nesta [página do projeto sklearn](https://scikit-learn.org/stable/modules/feature_selection.html).\n",
    "\n",
    "**Desafio 3**: mostrar o resultado para os dados de trabalho, para os seguintes métodos se leção de características:\n",
    "- VarianceThreshold\n",
    "- Univariate feature selection\n",
    "    - escolha o que mais for \"interessante\": `SelectKBest`, `SelectPercentile` e `GenericUnivariateSelect`\n",
    "- Recursive feature elimination"
   ]
  }
 ],
 "metadata": {
  "kernelspec": {
   "display_name": "Python 3 (ipykernel)",
   "language": "python",
   "name": "python3"
  },
  "language_info": {
   "codemirror_mode": {
    "name": "ipython",
    "version": 3
   },
   "file_extension": ".py",
   "mimetype": "text/x-python",
   "name": "python",
   "nbconvert_exporter": "python",
   "pygments_lexer": "ipython3",
   "version": "3.9.2"
  }
 },
 "nbformat": 4,
 "nbformat_minor": 5
}
